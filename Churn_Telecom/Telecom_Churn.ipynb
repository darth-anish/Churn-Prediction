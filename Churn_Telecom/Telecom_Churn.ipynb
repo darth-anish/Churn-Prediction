{
  "nbformat": 4,
  "nbformat_minor": 0,
  "metadata": {
    "colab": {
      "name": "Telecom_Churn.ipynb",
      "provenance": []
    },
    "kernelspec": {
      "name": "python3",
      "display_name": "Python 3"
    },
    "accelerator": "GPU"
  },
  "cells": [
    {
      "cell_type": "markdown",
      "metadata": {
        "id": "pqkPwW6lX8X_",
        "colab_type": "text"
      },
      "source": [
        "# **CUSTOMER ATTRITION**"
      ]
    },
    {
      "cell_type": "markdown",
      "metadata": {
        "id": "5Dr-7zKJX4jo",
        "colab_type": "text"
      },
      "source": [
        "\n",
        "Customer attrition, also known as customer churn, customer turnover, or customer defection, is the loss of clients or customers.\n",
        "\n",
        "Telephone service companies, Internet service providers, pay TV companies, insurance firms, and alarm monitoring services, often use customer attrition analysis and customer attrition rates as one of their key business metrics because the cost of retaining an existing customer is far less than acquiring a new one. Companies from these sectors often have customer service branches which attempt to win back defecting clients, because recovered long-term customers can be worth much more to a company than newly recruited clients.\n",
        "\n",
        "Companies usually make a distinction between voluntary churn and involuntary churn. Voluntary churn occurs due to a decision by the customer to switch to another company or service provider, involuntary churn occurs due to circumstances such as a customer's relocation to a long-term care facility, death, or the relocation to a distant location. In most applications, involuntary reasons for churn are excluded from the analytical models. Analysts tend to concentrate on voluntary churn, because it typically occurs due to factors of the company-customer relationship which companies control, such as how billing interactions are handled or how after-sales help is provided.\n",
        "\n",
        "predictive analytics use churn prediction models that predict customer churn by assessing their propensity of risk to churn. Since these models generate a small prioritized list of potential defectors, they are effective at focusing customer retention marketing programs on the subset of the customer base who are most vulnerable to churn."
      ]
    },
    {
      "cell_type": "code",
      "metadata": {
        "id": "yqOlN4Ph10GY",
        "colab_type": "code",
        "colab": {}
      },
      "source": [
        "import pandas as pd\n",
        "import numpy as np\n",
        "import matplotlib.pyplot as plt\n",
        "import seaborn as sns\n",
        "import scipy.stats as stats\n",
        "from sklearn.model_selection import train_test_split,GridSearchCV,RandomizedSearchCV\n",
        "from sklearn.linear_model import LogisticRegression\n",
        "from sklearn.tree import DecisionTreeClassifier\n",
        "from sklearn.metrics import classification_report, accuracy_score, roc_auc_score,roc_curve,confusion_matrix\n",
        "from imblearn.over_sampling import SMOTE\n",
        "from sklearn.ensemble import RandomForestClassifier\n",
        "\n",
        "pd.options.display.max_rows=None"
      ],
      "execution_count": 0,
      "outputs": []
    },
    {
      "cell_type": "code",
      "metadata": {
        "id": "EjC31HGP2SNg",
        "colab_type": "code",
        "colab": {}
      },
      "source": [
        "raw_df=pd.read_csv('WA_Fn-UseC_-Telco-Customer-Churn.csv')"
      ],
      "execution_count": 0,
      "outputs": []
    },
    {
      "cell_type": "code",
      "metadata": {
        "id": "WNhM4Qu52iTI",
        "colab_type": "code",
        "colab": {}
      },
      "source": [
        "df=raw_df.copy()"
      ],
      "execution_count": 0,
      "outputs": []
    },
    {
      "cell_type": "markdown",
      "metadata": {
        "id": "d_suWjbcYH2s",
        "colab_type": "text"
      },
      "source": [
        "## **DATA OVERVIEW**"
      ]
    },
    {
      "cell_type": "code",
      "metadata": {
        "id": "DVQJcdGW2mP_",
        "colab_type": "code",
        "outputId": "4be75a2b-97e4-4f62-ff00-781cbf276df5",
        "colab": {
          "base_uri": "https://localhost:8080/",
          "height": 309
        }
      },
      "source": [
        "df.head()"
      ],
      "execution_count": 213,
      "outputs": [
        {
          "output_type": "execute_result",
          "data": {
            "text/html": [
              "<div>\n",
              "<style scoped>\n",
              "    .dataframe tbody tr th:only-of-type {\n",
              "        vertical-align: middle;\n",
              "    }\n",
              "\n",
              "    .dataframe tbody tr th {\n",
              "        vertical-align: top;\n",
              "    }\n",
              "\n",
              "    .dataframe thead th {\n",
              "        text-align: right;\n",
              "    }\n",
              "</style>\n",
              "<table border=\"1\" class=\"dataframe\">\n",
              "  <thead>\n",
              "    <tr style=\"text-align: right;\">\n",
              "      <th></th>\n",
              "      <th>customerID</th>\n",
              "      <th>gender</th>\n",
              "      <th>SeniorCitizen</th>\n",
              "      <th>Partner</th>\n",
              "      <th>Dependents</th>\n",
              "      <th>tenure</th>\n",
              "      <th>PhoneService</th>\n",
              "      <th>MultipleLines</th>\n",
              "      <th>InternetService</th>\n",
              "      <th>OnlineSecurity</th>\n",
              "      <th>OnlineBackup</th>\n",
              "      <th>DeviceProtection</th>\n",
              "      <th>TechSupport</th>\n",
              "      <th>StreamingTV</th>\n",
              "      <th>StreamingMovies</th>\n",
              "      <th>Contract</th>\n",
              "      <th>PaperlessBilling</th>\n",
              "      <th>PaymentMethod</th>\n",
              "      <th>MonthlyCharges</th>\n",
              "      <th>TotalCharges</th>\n",
              "      <th>Churn</th>\n",
              "    </tr>\n",
              "  </thead>\n",
              "  <tbody>\n",
              "    <tr>\n",
              "      <th>0</th>\n",
              "      <td>7590-VHVEG</td>\n",
              "      <td>Female</td>\n",
              "      <td>0</td>\n",
              "      <td>Yes</td>\n",
              "      <td>No</td>\n",
              "      <td>1</td>\n",
              "      <td>No</td>\n",
              "      <td>No phone service</td>\n",
              "      <td>DSL</td>\n",
              "      <td>No</td>\n",
              "      <td>Yes</td>\n",
              "      <td>No</td>\n",
              "      <td>No</td>\n",
              "      <td>No</td>\n",
              "      <td>No</td>\n",
              "      <td>Month-to-month</td>\n",
              "      <td>Yes</td>\n",
              "      <td>Electronic check</td>\n",
              "      <td>29.85</td>\n",
              "      <td>29.85</td>\n",
              "      <td>No</td>\n",
              "    </tr>\n",
              "    <tr>\n",
              "      <th>1</th>\n",
              "      <td>5575-GNVDE</td>\n",
              "      <td>Male</td>\n",
              "      <td>0</td>\n",
              "      <td>No</td>\n",
              "      <td>No</td>\n",
              "      <td>34</td>\n",
              "      <td>Yes</td>\n",
              "      <td>No</td>\n",
              "      <td>DSL</td>\n",
              "      <td>Yes</td>\n",
              "      <td>No</td>\n",
              "      <td>Yes</td>\n",
              "      <td>No</td>\n",
              "      <td>No</td>\n",
              "      <td>No</td>\n",
              "      <td>One year</td>\n",
              "      <td>No</td>\n",
              "      <td>Mailed check</td>\n",
              "      <td>56.95</td>\n",
              "      <td>1889.5</td>\n",
              "      <td>No</td>\n",
              "    </tr>\n",
              "    <tr>\n",
              "      <th>2</th>\n",
              "      <td>3668-QPYBK</td>\n",
              "      <td>Male</td>\n",
              "      <td>0</td>\n",
              "      <td>No</td>\n",
              "      <td>No</td>\n",
              "      <td>2</td>\n",
              "      <td>Yes</td>\n",
              "      <td>No</td>\n",
              "      <td>DSL</td>\n",
              "      <td>Yes</td>\n",
              "      <td>Yes</td>\n",
              "      <td>No</td>\n",
              "      <td>No</td>\n",
              "      <td>No</td>\n",
              "      <td>No</td>\n",
              "      <td>Month-to-month</td>\n",
              "      <td>Yes</td>\n",
              "      <td>Mailed check</td>\n",
              "      <td>53.85</td>\n",
              "      <td>108.15</td>\n",
              "      <td>Yes</td>\n",
              "    </tr>\n",
              "    <tr>\n",
              "      <th>3</th>\n",
              "      <td>7795-CFOCW</td>\n",
              "      <td>Male</td>\n",
              "      <td>0</td>\n",
              "      <td>No</td>\n",
              "      <td>No</td>\n",
              "      <td>45</td>\n",
              "      <td>No</td>\n",
              "      <td>No phone service</td>\n",
              "      <td>DSL</td>\n",
              "      <td>Yes</td>\n",
              "      <td>No</td>\n",
              "      <td>Yes</td>\n",
              "      <td>Yes</td>\n",
              "      <td>No</td>\n",
              "      <td>No</td>\n",
              "      <td>One year</td>\n",
              "      <td>No</td>\n",
              "      <td>Bank transfer (automatic)</td>\n",
              "      <td>42.30</td>\n",
              "      <td>1840.75</td>\n",
              "      <td>No</td>\n",
              "    </tr>\n",
              "    <tr>\n",
              "      <th>4</th>\n",
              "      <td>9237-HQITU</td>\n",
              "      <td>Female</td>\n",
              "      <td>0</td>\n",
              "      <td>No</td>\n",
              "      <td>No</td>\n",
              "      <td>2</td>\n",
              "      <td>Yes</td>\n",
              "      <td>No</td>\n",
              "      <td>Fiber optic</td>\n",
              "      <td>No</td>\n",
              "      <td>No</td>\n",
              "      <td>No</td>\n",
              "      <td>No</td>\n",
              "      <td>No</td>\n",
              "      <td>No</td>\n",
              "      <td>Month-to-month</td>\n",
              "      <td>Yes</td>\n",
              "      <td>Electronic check</td>\n",
              "      <td>70.70</td>\n",
              "      <td>151.65</td>\n",
              "      <td>Yes</td>\n",
              "    </tr>\n",
              "  </tbody>\n",
              "</table>\n",
              "</div>"
            ],
            "text/plain": [
              "   customerID  gender  SeniorCitizen  ... MonthlyCharges TotalCharges  Churn\n",
              "0  7590-VHVEG  Female              0  ...          29.85        29.85     No\n",
              "1  5575-GNVDE    Male              0  ...          56.95       1889.5     No\n",
              "2  3668-QPYBK    Male              0  ...          53.85       108.15    Yes\n",
              "3  7795-CFOCW    Male              0  ...          42.30      1840.75     No\n",
              "4  9237-HQITU  Female              0  ...          70.70       151.65    Yes\n",
              "\n",
              "[5 rows x 21 columns]"
            ]
          },
          "metadata": {
            "tags": []
          },
          "execution_count": 213
        }
      ]
    },
    {
      "cell_type": "code",
      "metadata": {
        "id": "7jxC9vlw29_l",
        "colab_type": "code",
        "outputId": "1374aebc-a02d-45b8-c147-75062b752722",
        "colab": {
          "base_uri": "https://localhost:8080/",
          "height": 34
        }
      },
      "source": [
        "df.shape"
      ],
      "execution_count": 214,
      "outputs": [
        {
          "output_type": "execute_result",
          "data": {
            "text/plain": [
              "(7043, 21)"
            ]
          },
          "metadata": {
            "tags": []
          },
          "execution_count": 214
        }
      ]
    },
    {
      "cell_type": "code",
      "metadata": {
        "id": "1JadCAet2nKc",
        "colab_type": "code",
        "outputId": "0643c53b-4965-47eb-992e-cd4b7a3b8edc",
        "colab": {
          "base_uri": "https://localhost:8080/",
          "height": 459
        }
      },
      "source": [
        "df.info()"
      ],
      "execution_count": 215,
      "outputs": [
        {
          "output_type": "stream",
          "text": [
            "<class 'pandas.core.frame.DataFrame'>\n",
            "RangeIndex: 7043 entries, 0 to 7042\n",
            "Data columns (total 21 columns):\n",
            "customerID          7043 non-null object\n",
            "gender              7043 non-null object\n",
            "SeniorCitizen       7043 non-null int64\n",
            "Partner             7043 non-null object\n",
            "Dependents          7043 non-null object\n",
            "tenure              7043 non-null int64\n",
            "PhoneService        7043 non-null object\n",
            "MultipleLines       7043 non-null object\n",
            "InternetService     7043 non-null object\n",
            "OnlineSecurity      7043 non-null object\n",
            "OnlineBackup        7043 non-null object\n",
            "DeviceProtection    7043 non-null object\n",
            "TechSupport         7043 non-null object\n",
            "StreamingTV         7043 non-null object\n",
            "StreamingMovies     7043 non-null object\n",
            "Contract            7043 non-null object\n",
            "PaperlessBilling    7043 non-null object\n",
            "PaymentMethod       7043 non-null object\n",
            "MonthlyCharges      7043 non-null float64\n",
            "TotalCharges        7043 non-null object\n",
            "Churn               7043 non-null object\n",
            "dtypes: float64(1), int64(2), object(18)\n",
            "memory usage: 1.1+ MB\n"
          ],
          "name": "stdout"
        }
      ]
    },
    {
      "cell_type": "code",
      "metadata": {
        "id": "erfFesKOYTR_",
        "colab_type": "code",
        "colab": {
          "base_uri": "https://localhost:8080/",
          "height": 425
        },
        "outputId": "a7a3a906-212f-4cfc-ddbe-2c724c1e2073"
      },
      "source": [
        "print('Unique values in features\\n ')\n",
        "df.nunique()"
      ],
      "execution_count": 216,
      "outputs": [
        {
          "output_type": "stream",
          "text": [
            "Unique values in features\n",
            " \n"
          ],
          "name": "stdout"
        },
        {
          "output_type": "execute_result",
          "data": {
            "text/plain": [
              "customerID          7043\n",
              "gender                 2\n",
              "SeniorCitizen          2\n",
              "Partner                2\n",
              "Dependents             2\n",
              "tenure                73\n",
              "PhoneService           2\n",
              "MultipleLines          3\n",
              "InternetService        3\n",
              "OnlineSecurity         3\n",
              "OnlineBackup           3\n",
              "DeviceProtection       3\n",
              "TechSupport            3\n",
              "StreamingTV            3\n",
              "StreamingMovies        3\n",
              "Contract               3\n",
              "PaperlessBilling       2\n",
              "PaymentMethod          4\n",
              "MonthlyCharges      1585\n",
              "TotalCharges        6531\n",
              "Churn                  2\n",
              "dtype: int64"
            ]
          },
          "metadata": {
            "tags": []
          },
          "execution_count": 216
        }
      ]
    },
    {
      "cell_type": "markdown",
      "metadata": {
        "id": "n5_VvQGv5ZrW",
        "colab_type": "text"
      },
      "source": [
        "## **TARGET VARIABLE PIE PLOT**"
      ]
    },
    {
      "cell_type": "code",
      "metadata": {
        "id": "FclwOTRK5Hbk",
        "colab_type": "code",
        "outputId": "50781766-377b-4608-9f7c-3f5158d7d1e5",
        "colab": {
          "base_uri": "https://localhost:8080/",
          "height": 357
        }
      },
      "source": [
        "plt.figure(figsize=(8,6))\n",
        "plt.pie(df['Churn'].value_counts(),labels=['No','Yes'],autopct='%1.2f%%',explode=(0,0.1))\n",
        "plt.show()"
      ],
      "execution_count": 217,
      "outputs": [
        {
          "output_type": "display_data",
          "data": {
            "image/png": "[encoded data removed]",
            "text/plain": [
              "<Figure size 576x432 with 1 Axes>"
            ]
          },
          "metadata": {
            "tags": []
          }
        }
      ]
    },
    {
      "cell_type": "markdown",
      "metadata": {
        "id": "1rmiwYk56BY7",
        "colab_type": "text"
      },
      "source": [
        "*Data is balanced*"
      ]
    },
    {
      "cell_type": "code",
      "metadata": {
        "id": "b71oSfLo56eY",
        "colab_type": "code",
        "outputId": "219355e1-faf1-40cc-8501-025fb48af395",
        "colab": {
          "base_uri": "https://localhost:8080/",
          "height": 68
        }
      },
      "source": [
        "df['Churn'].value_counts()"
      ],
      "execution_count": 218,
      "outputs": [
        {
          "output_type": "execute_result",
          "data": {
            "text/plain": [
              "No     5174\n",
              "Yes    1869\n",
              "Name: Churn, dtype: int64"
            ]
          },
          "metadata": {
            "tags": []
          },
          "execution_count": 218
        }
      ]
    },
    {
      "cell_type": "code",
      "metadata": {
        "id": "CkUgL6Gg7APr",
        "colab_type": "code",
        "colab": {}
      },
      "source": [
        "df.drop('customerID',axis=1,inplace=True)"
      ],
      "execution_count": 0,
      "outputs": []
    },
    {
      "cell_type": "markdown",
      "metadata": {
        "id": "Q7VVRVSdYuVK",
        "colab_type": "text"
      },
      "source": [
        "# **VISUALIZATION OF FEATURES**"
      ]
    },
    {
      "cell_type": "code",
      "metadata": {
        "id": "UvzNdd2VZO5l",
        "colab_type": "code",
        "colab": {
          "base_uri": "https://localhost:8080/",
          "height": 68
        },
        "outputId": "c25455a0-f127-4914-9897-e61f1de39ea5"
      },
      "source": [
        "df['gender'].value_counts()"
      ],
      "execution_count": 220,
      "outputs": [
        {
          "output_type": "execute_result",
          "data": {
            "text/plain": [
              "Male      3555\n",
              "Female    3488\n",
              "Name: gender, dtype: int64"
            ]
          },
          "metadata": {
            "tags": []
          },
          "execution_count": 220
        }
      ]
    },
    {
      "cell_type": "code",
      "metadata": {
        "id": "u5Ce-1JbXeX4",
        "colab_type": "code",
        "colab": {
          "base_uri": "https://localhost:8080/",
          "height": 373
        },
        "outputId": "38d43721-3926-47ff-91b7-18f234068809"
      },
      "source": [
        "plt.figure(figsize=(8,6))\n",
        "plt.pie(df['gender'].value_counts(),labels=['Male','Female'],autopct='%1.2f%%',explode=(0,0.1))\n",
        "plt.title('Feature gender')\n",
        "plt.show()"
      ],
      "execution_count": 221,
      "outputs": [
        {
          "output_type": "display_data",
          "data": {
            "image/png": "[encoded data removed]",
            "text/plain": [
              "<Figure size 576x432 with 1 Axes>"
            ]
          },
          "metadata": {
            "tags": []
          }
        }
      ]
    },
    {
      "cell_type": "code",
      "metadata": {
        "id": "24laor9CZbAF",
        "colab_type": "code",
        "colab": {
          "base_uri": "https://localhost:8080/",
          "height": 68
        },
        "outputId": "792c1c34-512e-40df-c707-0184f7aba73b"
      },
      "source": [
        "df['SeniorCitizen'].value_counts()"
      ],
      "execution_count": 222,
      "outputs": [
        {
          "output_type": "execute_result",
          "data": {
            "text/plain": [
              "0    5901\n",
              "1    1142\n",
              "Name: SeniorCitizen, dtype: int64"
            ]
          },
          "metadata": {
            "tags": []
          },
          "execution_count": 222
        }
      ]
    },
    {
      "cell_type": "code",
      "metadata": {
        "id": "6z2OryF2m94C",
        "colab_type": "code",
        "colab": {}
      },
      "source": [
        "df['SeniorCitizen']=df['SeniorCitizen'].replace({0:'No',1:'Yes'})"
      ],
      "execution_count": 0,
      "outputs": []
    },
    {
      "cell_type": "code",
      "metadata": {
        "id": "OaWbMbgnZhmM",
        "colab_type": "code",
        "colab": {
          "base_uri": "https://localhost:8080/",
          "height": 373
        },
        "outputId": "b8bd1dff-6e18-4135-9565-d2c2bdafbaf3"
      },
      "source": [
        "plt.figure(figsize=(8,6))\n",
        "plt.pie(df['SeniorCitizen'].value_counts(),labels=['No','Yes'],autopct='%1.2f%%',explode=(0,0.1))\n",
        "plt.title('Feature SeniorCitizen')\n",
        "plt.show()"
      ],
      "execution_count": 224,
      "outputs": [
        {
          "output_type": "display_data",
          "data": {
            "image/png": "[encoded data removed]",
            "text/plain": [
              "<Figure size 576x432 with 1 Axes>"
            ]
          },
          "metadata": {
            "tags": []
          }
        }
      ]
    },
    {
      "cell_type": "code",
      "metadata": {
        "id": "UC37Dll9ZomT",
        "colab_type": "code",
        "colab": {
          "base_uri": "https://localhost:8080/",
          "height": 68
        },
        "outputId": "9a6d77b3-1f56-4a78-e381-dfa42d7e8ee5"
      },
      "source": [
        "df['Partner'].value_counts()"
      ],
      "execution_count": 225,
      "outputs": [
        {
          "output_type": "execute_result",
          "data": {
            "text/plain": [
              "No     3641\n",
              "Yes    3402\n",
              "Name: Partner, dtype: int64"
            ]
          },
          "metadata": {
            "tags": []
          },
          "execution_count": 225
        }
      ]
    },
    {
      "cell_type": "code",
      "metadata": {
        "id": "0F8DE0vHaF76",
        "colab_type": "code",
        "colab": {
          "base_uri": "https://localhost:8080/",
          "height": 373
        },
        "outputId": "9fc41fa5-b960-44f9-a6d4-cdaab600f300"
      },
      "source": [
        "plt.figure(figsize=(8,6))\n",
        "plt.pie(df['Partner'].value_counts(),labels=['No','Yes'],autopct='%1.2f%%',explode=(0,0.1))\n",
        "plt.title('Feature Partner')\n",
        "plt.show()"
      ],
      "execution_count": 226,
      "outputs": [
        {
          "output_type": "display_data",
          "data": {
            "image/png": "[encoded data removed]",
            "text/plain": [
              "<Figure size 576x432 with 1 Axes>"
            ]
          },
          "metadata": {
            "tags": []
          }
        }
      ]
    },
    {
      "cell_type": "code",
      "metadata": {
        "id": "hv_3eqAhaN-1",
        "colab_type": "code",
        "colab": {
          "base_uri": "https://localhost:8080/",
          "height": 68
        },
        "outputId": "980c6987-0903-45d2-95f6-d77be0d0d0be"
      },
      "source": [
        "df['Dependents'].value_counts()"
      ],
      "execution_count": 227,
      "outputs": [
        {
          "output_type": "execute_result",
          "data": {
            "text/plain": [
              "No     4933\n",
              "Yes    2110\n",
              "Name: Dependents, dtype: int64"
            ]
          },
          "metadata": {
            "tags": []
          },
          "execution_count": 227
        }
      ]
    },
    {
      "cell_type": "code",
      "metadata": {
        "id": "EXx_7dgXaS3X",
        "colab_type": "code",
        "colab": {
          "base_uri": "https://localhost:8080/",
          "height": 373
        },
        "outputId": "c4248dec-1144-4997-e76f-ef5d203b216a"
      },
      "source": [
        "plt.figure(figsize=(8,6))\n",
        "plt.pie(df['Dependents'].value_counts(),labels=['No','Yes'],autopct='%1.2f%%',explode=(0,0.1))\n",
        "plt.title('Feature Dependents')\n",
        "plt.show()"
      ],
      "execution_count": 228,
      "outputs": [
        {
          "output_type": "display_data",
          "data": {
            "image/png": "[encoded data removed]",
            "text/plain": [
              "<Figure size 576x432 with 1 Axes>"
            ]
          },
          "metadata": {
            "tags": []
          }
        }
      ]
    },
    {
      "cell_type": "code",
      "metadata": {
        "id": "c7l0O5lQaXxp",
        "colab_type": "code",
        "colab": {
          "base_uri": "https://localhost:8080/",
          "height": 513
        },
        "outputId": "82f8f967-4748-4ecf-fb1a-7363f5c5b159"
      },
      "source": [
        "plt.figure(figsize=(18,8))\n",
        "sns.countplot(df['tenure'])\n",
        "plt.title('feature tenure')\n",
        "plt.show()"
      ],
      "execution_count": 229,
      "outputs": [
        {
          "output_type": "display_data",
          "data": {
            "image/png": "[encoded data removed]",
            "text/plain": [
              "<Figure size 1296x576 with 1 Axes>"
            ]
          },
          "metadata": {
            "tags": []
          }
        }
      ]
    },
    {
      "cell_type": "code",
      "metadata": {
        "id": "9KDnkkewbZH4",
        "colab_type": "code",
        "colab": {
          "base_uri": "https://localhost:8080/",
          "height": 68
        },
        "outputId": "0b7ff971-7f97-4890-ec12-f1bf43a55ba6"
      },
      "source": [
        "df['PhoneService'].value_counts()"
      ],
      "execution_count": 230,
      "outputs": [
        {
          "output_type": "execute_result",
          "data": {
            "text/plain": [
              "Yes    6361\n",
              "No      682\n",
              "Name: PhoneService, dtype: int64"
            ]
          },
          "metadata": {
            "tags": []
          },
          "execution_count": 230
        }
      ]
    },
    {
      "cell_type": "code",
      "metadata": {
        "id": "Pmjx2NUicnNp",
        "colab_type": "code",
        "colab": {
          "base_uri": "https://localhost:8080/",
          "height": 373
        },
        "outputId": "b9deaca0-6fe9-454b-bb7f-467e510c8ce7"
      },
      "source": [
        "plt.figure(figsize=(8,6))\n",
        "plt.pie(df['PhoneService'].value_counts(),labels=['Yes','No'],autopct='%1.2f%%',explode=(0,0.1))\n",
        "plt.title('Feature PhoneService')\n",
        "plt.show()"
      ],
      "execution_count": 231,
      "outputs": [
        {
          "output_type": "display_data",
          "data": {
            "image/png": "[encoded data removed]",
            "text/plain": [
              "<Figure size 576x432 with 1 Axes>"
            ]
          },
          "metadata": {
            "tags": []
          }
        }
      ]
    },
    {
      "cell_type": "code",
      "metadata": {
        "id": "ynU0w1zNcxZ0",
        "colab_type": "code",
        "colab": {
          "base_uri": "https://localhost:8080/",
          "height": 85
        },
        "outputId": "1f936cb1-815b-4441-93e2-30ff23aba5c3"
      },
      "source": [
        "df['MultipleLines'].value_counts()"
      ],
      "execution_count": 232,
      "outputs": [
        {
          "output_type": "execute_result",
          "data": {
            "text/plain": [
              "No                  3390\n",
              "Yes                 2971\n",
              "No phone service     682\n",
              "Name: MultipleLines, dtype: int64"
            ]
          },
          "metadata": {
            "tags": []
          },
          "execution_count": 232
        }
      ]
    },
    {
      "cell_type": "code",
      "metadata": {
        "id": "uyHYySr1c8Jn",
        "colab_type": "code",
        "colab": {
          "base_uri": "https://localhost:8080/",
          "height": 513
        },
        "outputId": "0351367c-3b9a-45b3-d90c-bb7f2e5dc18c"
      },
      "source": [
        "plt.figure(figsize=(8,8))\n",
        "sns.countplot(df['MultipleLines'])\n",
        "plt.title('feature MultipleLines')\n",
        "plt.show()"
      ],
      "execution_count": 233,
      "outputs": [
        {
          "output_type": "display_data",
          "data": {
            "image/png": "[encoded data removed]",
            "text/plain": [
              "<Figure size 576x576 with 1 Axes>"
            ]
          },
          "metadata": {
            "tags": []
          }
        }
      ]
    },
    {
      "cell_type": "code",
      "metadata": {
        "id": "QQRPMDoWdI4t",
        "colab_type": "code",
        "colab": {
          "base_uri": "https://localhost:8080/",
          "height": 85
        },
        "outputId": "c3415bfd-6e9d-4e25-cb22-1f8b385928d4"
      },
      "source": [
        "df['InternetService'].value_counts()"
      ],
      "execution_count": 234,
      "outputs": [
        {
          "output_type": "execute_result",
          "data": {
            "text/plain": [
              "Fiber optic    3096\n",
              "DSL            2421\n",
              "No             1526\n",
              "Name: InternetService, dtype: int64"
            ]
          },
          "metadata": {
            "tags": []
          },
          "execution_count": 234
        }
      ]
    },
    {
      "cell_type": "code",
      "metadata": {
        "id": "_IZX2I6Rdxa_",
        "colab_type": "code",
        "colab": {
          "base_uri": "https://localhost:8080/",
          "height": 513
        },
        "outputId": "11c1d9cb-d8e1-4320-e370-89207249c9de"
      },
      "source": [
        "plt.figure(figsize=(8,8))\n",
        "sns.countplot(df['InternetService'])\n",
        "plt.title('feature InternetService')\n",
        "plt.show()"
      ],
      "execution_count": 235,
      "outputs": [
        {
          "output_type": "display_data",
          "data": {
            "image/png": "[encoded data removed]",
            "text/plain": [
              "<Figure size 576x576 with 1 Axes>"
            ]
          },
          "metadata": {
            "tags": []
          }
        }
      ]
    },
    {
      "cell_type": "code",
      "metadata": {
        "id": "159RlS1Ad22R",
        "colab_type": "code",
        "colab": {
          "base_uri": "https://localhost:8080/",
          "height": 85
        },
        "outputId": "a84f7e8d-0fd1-48b8-e1d6-afcdb476b071"
      },
      "source": [
        "df['OnlineSecurity'].value_counts()"
      ],
      "execution_count": 236,
      "outputs": [
        {
          "output_type": "execute_result",
          "data": {
            "text/plain": [
              "No                     3498\n",
              "Yes                    2019\n",
              "No internet service    1526\n",
              "Name: OnlineSecurity, dtype: int64"
            ]
          },
          "metadata": {
            "tags": []
          },
          "execution_count": 236
        }
      ]
    },
    {
      "cell_type": "code",
      "metadata": {
        "id": "c5le8dl7eHVp",
        "colab_type": "code",
        "colab": {
          "base_uri": "https://localhost:8080/",
          "height": 513
        },
        "outputId": "9ffff4ce-e746-4ec0-d61b-1196f47bc658"
      },
      "source": [
        "plt.figure(figsize=(8,8))\n",
        "sns.countplot(df['OnlineSecurity'])\n",
        "plt.title('feature OnlineSecurity')\n",
        "plt.show()"
      ],
      "execution_count": 237,
      "outputs": [
        {
          "output_type": "display_data",
          "data": {
            "image/png": "[encoded data removed]",
            "text/plain": [
              "<Figure size 576x576 with 1 Axes>"
            ]
          },
          "metadata": {
            "tags": []
          }
        }
      ]
    },
    {
      "cell_type": "code",
      "metadata": {
        "id": "oQTUflAFeLtK",
        "colab_type": "code",
        "colab": {
          "base_uri": "https://localhost:8080/",
          "height": 85
        },
        "outputId": "df9627fb-4249-4f88-b30a-0952faf7d2ee"
      },
      "source": [
        "df['OnlineBackup'].value_counts()"
      ],
      "execution_count": 238,
      "outputs": [
        {
          "output_type": "execute_result",
          "data": {
            "text/plain": [
              "No                     3088\n",
              "Yes                    2429\n",
              "No internet service    1526\n",
              "Name: OnlineBackup, dtype: int64"
            ]
          },
          "metadata": {
            "tags": []
          },
          "execution_count": 238
        }
      ]
    },
    {
      "cell_type": "code",
      "metadata": {
        "id": "ihBYZhcmeYLq",
        "colab_type": "code",
        "colab": {
          "base_uri": "https://localhost:8080/",
          "height": 513
        },
        "outputId": "adccabb5-2cc7-45ab-9b5a-b35f7a53e028"
      },
      "source": [
        "plt.figure(figsize=(8,8))\n",
        "sns.countplot(df['OnlineBackup'])\n",
        "plt.title('feature OnlineBackup')\n",
        "plt.show()"
      ],
      "execution_count": 239,
      "outputs": [
        {
          "output_type": "display_data",
          "data": {
            "image/png": "[encoded data removed]",
            "text/plain": [
              "<Figure size 576x576 with 1 Axes>"
            ]
          },
          "metadata": {
            "tags": []
          }
        }
      ]
    },
    {
      "cell_type": "code",
      "metadata": {
        "id": "-_E7VG5LecFB",
        "colab_type": "code",
        "colab": {
          "base_uri": "https://localhost:8080/",
          "height": 85
        },
        "outputId": "526807e6-092c-421f-9f9e-0ed3507aa57c"
      },
      "source": [
        "df['DeviceProtection'].value_counts()"
      ],
      "execution_count": 240,
      "outputs": [
        {
          "output_type": "execute_result",
          "data": {
            "text/plain": [
              "No                     3095\n",
              "Yes                    2422\n",
              "No internet service    1526\n",
              "Name: DeviceProtection, dtype: int64"
            ]
          },
          "metadata": {
            "tags": []
          },
          "execution_count": 240
        }
      ]
    },
    {
      "cell_type": "code",
      "metadata": {
        "id": "zvJ5mTM3em75",
        "colab_type": "code",
        "colab": {
          "base_uri": "https://localhost:8080/",
          "height": 513
        },
        "outputId": "652716a9-bb15-40f0-de25-947368fca711"
      },
      "source": [
        "plt.figure(figsize=(8,8))\n",
        "sns.countplot(df['DeviceProtection'])\n",
        "plt.title('feature DeviceProtection')\n",
        "plt.show()"
      ],
      "execution_count": 241,
      "outputs": [
        {
          "output_type": "display_data",
          "data": {
            "image/png": "[encoded data removed]",
            "text/plain": [
              "<Figure size 576x576 with 1 Axes>"
            ]
          },
          "metadata": {
            "tags": []
          }
        }
      ]
    },
    {
      "cell_type": "code",
      "metadata": {
        "id": "0EnFf9M-exjq",
        "colab_type": "code",
        "colab": {
          "base_uri": "https://localhost:8080/",
          "height": 85
        },
        "outputId": "602e323a-c27c-4402-963d-00a26dd72c40"
      },
      "source": [
        "df['TechSupport'].value_counts()"
      ],
      "execution_count": 242,
      "outputs": [
        {
          "output_type": "execute_result",
          "data": {
            "text/plain": [
              "No                     3473\n",
              "Yes                    2044\n",
              "No internet service    1526\n",
              "Name: TechSupport, dtype: int64"
            ]
          },
          "metadata": {
            "tags": []
          },
          "execution_count": 242
        }
      ]
    },
    {
      "cell_type": "code",
      "metadata": {
        "id": "PEDNut_Ue3mE",
        "colab_type": "code",
        "colab": {
          "base_uri": "https://localhost:8080/",
          "height": 513
        },
        "outputId": "0a4988af-c07d-4ce1-f914-c30b02628669"
      },
      "source": [
        "plt.figure(figsize=(8,8))\n",
        "sns.countplot(df['TechSupport'])\n",
        "plt.title('feature TechSupport')\n",
        "plt.show()"
      ],
      "execution_count": 243,
      "outputs": [
        {
          "output_type": "display_data",
          "data": {
            "image/png": "[encoded data removed]",
            "text/plain": [
              "<Figure size 576x576 with 1 Axes>"
            ]
          },
          "metadata": {
            "tags": []
          }
        }
      ]
    },
    {
      "cell_type": "code",
      "metadata": {
        "id": "KD-xs_sme8x6",
        "colab_type": "code",
        "colab": {
          "base_uri": "https://localhost:8080/",
          "height": 85
        },
        "outputId": "0ef3708d-0f9f-4713-9edb-9d6c4e17bb95"
      },
      "source": [
        "df['StreamingTV'].value_counts()"
      ],
      "execution_count": 244,
      "outputs": [
        {
          "output_type": "execute_result",
          "data": {
            "text/plain": [
              "No                     2810\n",
              "Yes                    2707\n",
              "No internet service    1526\n",
              "Name: StreamingTV, dtype: int64"
            ]
          },
          "metadata": {
            "tags": []
          },
          "execution_count": 244
        }
      ]
    },
    {
      "cell_type": "code",
      "metadata": {
        "id": "Z1DPm2qPff-s",
        "colab_type": "code",
        "colab": {
          "base_uri": "https://localhost:8080/",
          "height": 513
        },
        "outputId": "cc6b8453-508b-450a-8c8d-6b25b5d82104"
      },
      "source": [
        "plt.figure(figsize=(8,8))\n",
        "sns.countplot(df['StreamingTV'])\n",
        "plt.title('feature StreamingTV')\n",
        "plt.show()"
      ],
      "execution_count": 245,
      "outputs": [
        {
          "output_type": "display_data",
          "data": {
            "image/png": "[encoded data removed]",
            "text/plain": [
              "<Figure size 576x576 with 1 Axes>"
            ]
          },
          "metadata": {
            "tags": []
          }
        }
      ]
    },
    {
      "cell_type": "code",
      "metadata": {
        "id": "kVtCZFHJfnNn",
        "colab_type": "code",
        "colab": {
          "base_uri": "https://localhost:8080/",
          "height": 85
        },
        "outputId": "3f10322b-157e-4900-acd2-20bd7e27f748"
      },
      "source": [
        "df['StreamingMovies'].value_counts()"
      ],
      "execution_count": 246,
      "outputs": [
        {
          "output_type": "execute_result",
          "data": {
            "text/plain": [
              "No                     2785\n",
              "Yes                    2732\n",
              "No internet service    1526\n",
              "Name: StreamingMovies, dtype: int64"
            ]
          },
          "metadata": {
            "tags": []
          },
          "execution_count": 246
        }
      ]
    },
    {
      "cell_type": "code",
      "metadata": {
        "id": "7hM74wn-emHC",
        "colab_type": "code",
        "colab": {
          "base_uri": "https://localhost:8080/",
          "height": 85
        },
        "outputId": "105662ab-b066-46bb-bcb3-75e134cfd14b"
      },
      "source": [
        "df['Contract'].value_counts()"
      ],
      "execution_count": 247,
      "outputs": [
        {
          "output_type": "execute_result",
          "data": {
            "text/plain": [
              "Month-to-month    3875\n",
              "Two year          1695\n",
              "One year          1473\n",
              "Name: Contract, dtype: int64"
            ]
          },
          "metadata": {
            "tags": []
          },
          "execution_count": 247
        }
      ]
    },
    {
      "cell_type": "code",
      "metadata": {
        "id": "IGNwpU0Agida",
        "colab_type": "code",
        "colab": {
          "base_uri": "https://localhost:8080/",
          "height": 513
        },
        "outputId": "a1b38b98-c26e-4d56-a1ed-322fbb27cac9"
      },
      "source": [
        "plt.figure(figsize=(8,8))\n",
        "sns.countplot(df['Contract'])\n",
        "plt.title('feature Contract')\n",
        "plt.show()"
      ],
      "execution_count": 248,
      "outputs": [
        {
          "output_type": "display_data",
          "data": {
            "image/png": "[encoded data removed]",
            "text/plain": [
              "<Figure size 576x576 with 1 Axes>"
            ]
          },
          "metadata": {
            "tags": []
          }
        }
      ]
    },
    {
      "cell_type": "code",
      "metadata": {
        "id": "3JDz5J3dgm9Z",
        "colab_type": "code",
        "colab": {
          "base_uri": "https://localhost:8080/",
          "height": 68
        },
        "outputId": "c68dbaf7-3c91-4f0f-c9d8-93823b4aca61"
      },
      "source": [
        "df['PaperlessBilling'].value_counts()"
      ],
      "execution_count": 249,
      "outputs": [
        {
          "output_type": "execute_result",
          "data": {
            "text/plain": [
              "Yes    4171\n",
              "No     2872\n",
              "Name: PaperlessBilling, dtype: int64"
            ]
          },
          "metadata": {
            "tags": []
          },
          "execution_count": 249
        }
      ]
    },
    {
      "cell_type": "code",
      "metadata": {
        "id": "PMfZAVvggvdQ",
        "colab_type": "code",
        "colab": {
          "base_uri": "https://localhost:8080/",
          "height": 513
        },
        "outputId": "2afadad6-87fc-46b8-c79f-eca6304cce90"
      },
      "source": [
        "plt.figure(figsize=(8,8))\n",
        "sns.countplot(df['PaperlessBilling'])\n",
        "plt.title('feature PaperlessBilling')\n",
        "plt.show()"
      ],
      "execution_count": 250,
      "outputs": [
        {
          "output_type": "display_data",
          "data": {
            "image/png": "[encoded data removed]",
            "text/plain": [
              "<Figure size 576x576 with 1 Axes>"
            ]
          },
          "metadata": {
            "tags": []
          }
        }
      ]
    },
    {
      "cell_type": "code",
      "metadata": {
        "id": "u6Ef4M9ag0HX",
        "colab_type": "code",
        "colab": {
          "base_uri": "https://localhost:8080/",
          "height": 102
        },
        "outputId": "d4905c8b-d52b-4f52-ad6f-6d2607ef5e45"
      },
      "source": [
        "df['PaymentMethod'].value_counts()"
      ],
      "execution_count": 251,
      "outputs": [
        {
          "output_type": "execute_result",
          "data": {
            "text/plain": [
              "Electronic check             2365\n",
              "Mailed check                 1612\n",
              "Bank transfer (automatic)    1544\n",
              "Credit card (automatic)      1522\n",
              "Name: PaymentMethod, dtype: int64"
            ]
          },
          "metadata": {
            "tags": []
          },
          "execution_count": 251
        }
      ]
    },
    {
      "cell_type": "code",
      "metadata": {
        "id": "_19Eprt7hCJr",
        "colab_type": "code",
        "colab": {
          "base_uri": "https://localhost:8080/",
          "height": 513
        },
        "outputId": "dec804cf-468a-47d3-9334-ba02dbcfdaf5"
      },
      "source": [
        "plt.figure(figsize=(10,8))\n",
        "sns.countplot(df['PaymentMethod'])\n",
        "plt.title('feature PaymentMethod')\n",
        "plt.show()"
      ],
      "execution_count": 252,
      "outputs": [
        {
          "output_type": "display_data",
          "data": {
            "image/png": "[encoded data removed]",
            "text/plain": [
              "<Figure size 720x576 with 1 Axes>"
            ]
          },
          "metadata": {
            "tags": []
          }
        }
      ]
    },
    {
      "cell_type": "code",
      "metadata": {
        "id": "18jAsdEBh7lY",
        "colab_type": "code",
        "colab": {
          "base_uri": "https://localhost:8080/",
          "height": 295
        },
        "outputId": "e34af77d-beb9-46e0-f2df-10bcf162b429"
      },
      "source": [
        "sns.distplot(df['MonthlyCharges'],hist=False)\n",
        "plt.title('Feature MonthlyCharges')\n",
        "plt.show()"
      ],
      "execution_count": 253,
      "outputs": [
        {
          "output_type": "display_data",
          "data": {
            "image/png": "[encoded data removed]",
            "text/plain": [
              "<Figure size 432x288 with 1 Axes>"
            ]
          },
          "metadata": {
            "tags": []
          }
        }
      ]
    },
    {
      "cell_type": "code",
      "metadata": {
        "id": "iahvhHRyZKUQ",
        "colab_type": "code",
        "colab": {
          "base_uri": "https://localhost:8080/",
          "height": 204
        },
        "outputId": "b04ec6d7-c543-4894-e561-a3a7240c4fce"
      },
      "source": [
        "na_list=[]\n",
        "for k,i in enumerate(df['TotalCharges']):\n",
        "  try:\n",
        "    df[df['TotalCharges']==i]['TotalCharges'].astype('float')\n",
        "  except ValueError:\n",
        "    print('error on line = ',k)\n",
        "    na_list.append(k)\n"
      ],
      "execution_count": 254,
      "outputs": [
        {
          "output_type": "stream",
          "text": [
            "error on line =  488\n",
            "error on line =  753\n",
            "error on line =  936\n",
            "error on line =  1082\n",
            "error on line =  1340\n",
            "error on line =  3331\n",
            "error on line =  3826\n",
            "error on line =  4380\n",
            "error on line =  5218\n",
            "error on line =  6670\n",
            "error on line =  6754\n"
          ],
          "name": "stdout"
        }
      ]
    },
    {
      "cell_type": "code",
      "metadata": {
        "id": "fAJ2IV6Ol9Vm",
        "colab_type": "code",
        "colab": {}
      },
      "source": [
        "\n",
        "df.drop(na_list,inplace=True)"
      ],
      "execution_count": 0,
      "outputs": []
    },
    {
      "cell_type": "code",
      "metadata": {
        "id": "rB0gQfiLlQnP",
        "colab_type": "code",
        "colab": {
          "base_uri": "https://localhost:8080/",
          "height": 34
        },
        "outputId": "b88328db-80ef-4600-d7e6-db35b7504dba"
      },
      "source": [
        "df.shape"
      ],
      "execution_count": 256,
      "outputs": [
        {
          "output_type": "execute_result",
          "data": {
            "text/plain": [
              "(7032, 20)"
            ]
          },
          "metadata": {
            "tags": []
          },
          "execution_count": 256
        }
      ]
    },
    {
      "cell_type": "code",
      "metadata": {
        "id": "sF4RhnjplaZP",
        "colab_type": "code",
        "colab": {}
      },
      "source": [
        "df['TotalCharges']=df['TotalCharges'].astype('float')\n"
      ],
      "execution_count": 0,
      "outputs": []
    },
    {
      "cell_type": "code",
      "metadata": {
        "id": "eNcV-KgbmlmU",
        "colab_type": "code",
        "colab": {
          "base_uri": "https://localhost:8080/",
          "height": 295
        },
        "outputId": "cf0d2164-f23d-4a25-f845-250fecd1ae84"
      },
      "source": [
        "sns.distplot(df['TotalCharges'],hist=False)\n",
        "plt.title('Feature TotalCharges')\n",
        "plt.show()"
      ],
      "execution_count": 258,
      "outputs": [
        {
          "output_type": "display_data",
          "data": {
            "image/png": "[encoded data removed]",
            "text/plain": [
              "<Figure size 432x288 with 1 Axes>"
            ]
          },
          "metadata": {
            "tags": []
          }
        }
      ]
    },
    {
      "cell_type": "code",
      "metadata": {
        "id": "06b-mhyTmqYn",
        "colab_type": "code",
        "colab": {
          "base_uri": "https://localhost:8080/",
          "height": 119
        },
        "outputId": "47aa3375-dfa8-44ea-a708-21df74e308ea"
      },
      "source": [
        "df.columns"
      ],
      "execution_count": 259,
      "outputs": [
        {
          "output_type": "execute_result",
          "data": {
            "text/plain": [
              "Index(['gender', 'SeniorCitizen', 'Partner', 'Dependents', 'tenure',\n",
              "       'PhoneService', 'MultipleLines', 'InternetService', 'OnlineSecurity',\n",
              "       'OnlineBackup', 'DeviceProtection', 'TechSupport', 'StreamingTV',\n",
              "       'StreamingMovies', 'Contract', 'PaperlessBilling', 'PaymentMethod',\n",
              "       'MonthlyCharges', 'TotalCharges', 'Churn'],\n",
              "      dtype='object')"
            ]
          },
          "metadata": {
            "tags": []
          },
          "execution_count": 259
        }
      ]
    },
    {
      "cell_type": "code",
      "metadata": {
        "id": "536Klr_3mynZ",
        "colab_type": "code",
        "colab": {
          "base_uri": "https://localhost:8080/",
          "height": 442
        },
        "outputId": "f3ff1758-b6e3-42b4-cadf-d403c55677e6"
      },
      "source": [
        "df.info()"
      ],
      "execution_count": 260,
      "outputs": [
        {
          "output_type": "stream",
          "text": [
            "<class 'pandas.core.frame.DataFrame'>\n",
            "Int64Index: 7032 entries, 0 to 7042\n",
            "Data columns (total 20 columns):\n",
            "gender              7032 non-null object\n",
            "SeniorCitizen       7032 non-null object\n",
            "Partner             7032 non-null object\n",
            "Dependents          7032 non-null object\n",
            "tenure              7032 non-null int64\n",
            "PhoneService        7032 non-null object\n",
            "MultipleLines       7032 non-null object\n",
            "InternetService     7032 non-null object\n",
            "OnlineSecurity      7032 non-null object\n",
            "OnlineBackup        7032 non-null object\n",
            "DeviceProtection    7032 non-null object\n",
            "TechSupport         7032 non-null object\n",
            "StreamingTV         7032 non-null object\n",
            "StreamingMovies     7032 non-null object\n",
            "Contract            7032 non-null object\n",
            "PaperlessBilling    7032 non-null object\n",
            "PaymentMethod       7032 non-null object\n",
            "MonthlyCharges      7032 non-null float64\n",
            "TotalCharges        7032 non-null float64\n",
            "Churn               7032 non-null object\n",
            "dtypes: float64(2), int64(1), object(17)\n",
            "memory usage: 1.1+ MB\n"
          ],
          "name": "stdout"
        }
      ]
    },
    {
      "cell_type": "markdown",
      "metadata": {
        "id": "Cn_Bsx6Horn3",
        "colab_type": "text"
      },
      "source": [
        "# **STATISTICAL TESTS**"
      ]
    },
    {
      "cell_type": "markdown",
      "metadata": {
        "id": "Y5Tb1oZ8o3Fb",
        "colab_type": "text"
      },
      "source": [
        "### **CHISQUARE TEST FOR ALL CATEGORICAL FEATURES**"
      ]
    },
    {
      "cell_type": "code",
      "metadata": {
        "id": "s7AlZVX_tvvY",
        "colab_type": "code",
        "colab": {
          "base_uri": "https://localhost:8080/",
          "height": 629
        },
        "outputId": "1762ddf9-aa65-4288-c306-b2f492afe1ea"
      },
      "source": [
        "cat_df=df.select_dtypes(include='object')\n",
        "cat_df=cat_df.drop('Churn',axis=1)\n",
        "insig_list=[]\n",
        "for k in cat_df.columns:\n",
        "  test_val,p_val,dof,arr=stats.chi2_contingency(pd.crosstab(df['Churn'],df[k]))\n",
        "  print('For {} feature, test Statistic value = {} and p-value = {} \\n'.format(k,test_val,p_val))\n",
        "  if p_val>0.05:\n",
        "    print('Feature {} is insignificant \\n'.format(k))\n",
        "    insig_list.append(k)\n"
      ],
      "execution_count": 261,
      "outputs": [
        {
          "output_type": "stream",
          "text": [
            "For gender feature, test Statistic value = 0.47545453727386294 and p-value = 0.4904884707065509 \n",
            "\n",
            "Feature gender is insignificant \n",
            "\n",
            "For SeniorCitizen feature, test Statistic value = 158.4408162893713 and p-value = 2.4792557203954705e-36 \n",
            "\n",
            "For Partner feature, test Statistic value = 157.50315146557506 and p-value = 3.97379757451591e-36 \n",
            "\n",
            "For Dependents feature, test Statistic value = 186.32163933855873 and p-value = 2.0196592017051303e-42 \n",
            "\n",
            "For PhoneService feature, test Statistic value = 0.8737327674431736 and p-value = 0.34992398942431924 \n",
            "\n",
            "Feature PhoneService is insignificant \n",
            "\n",
            "For MultipleLines feature, test Statistic value = 11.271540824020612 and p-value = 0.0035679273999811405 \n",
            "\n",
            "For InternetService feature, test Statistic value = 728.6956143058695 and p-value = 5.831198962236941e-159 \n",
            "\n",
            "For OnlineSecurity feature, test Statistic value = 846.6773889208487 and p-value = 1.4006867477839222e-184 \n",
            "\n",
            "For OnlineBackup feature, test Statistic value = 599.1751847059026 and p-value = 7.776099238804965e-131 \n",
            "\n",
            "For DeviceProtection feature, test Statistic value = 555.8803273428508 and p-value = 1.9593887862403176e-121 \n",
            "\n",
            "For TechSupport feature, test Statistic value = 824.9255643875022 and p-value = 7.407807748843288e-180 \n",
            "\n",
            "For StreamingTV feature, test Statistic value = 372.45650193550733 and p-value = 1.3246411131691968e-81 \n",
            "\n",
            "For StreamingMovies feature, test Statistic value = 374.26843157324595 and p-value = 5.353560421401323e-82 \n",
            "\n",
            "For Contract feature, test Statistic value = 1179.5458287339447 and p-value = 7.326182186264635e-257 \n",
            "\n",
            "For PaperlessBilling feature, test Statistic value = 256.87490836218717 and p-value = 8.236203353962564e-58 \n",
            "\n",
            "For PaymentMethod feature, test Statistic value = 645.4299001234639 and p-value = 1.4263098511062525e-139 \n",
            "\n"
          ],
          "name": "stdout"
        }
      ]
    },
    {
      "cell_type": "code",
      "metadata": {
        "id": "0okJLAAXubqD",
        "colab_type": "code",
        "colab": {
          "base_uri": "https://localhost:8080/",
          "height": 34
        },
        "outputId": "06571cbd-f427-4e20-86ce-cb995ed2fd9d"
      },
      "source": [
        "insig_list"
      ],
      "execution_count": 262,
      "outputs": [
        {
          "output_type": "execute_result",
          "data": {
            "text/plain": [
              "['gender', 'PhoneService']"
            ]
          },
          "metadata": {
            "tags": []
          },
          "execution_count": 262
        }
      ]
    },
    {
      "cell_type": "code",
      "metadata": {
        "id": "cgXzGOXEvR7K",
        "colab_type": "code",
        "colab": {}
      },
      "source": [
        "df.drop(['gender','PhoneService'],axis=1,inplace=True)"
      ],
      "execution_count": 0,
      "outputs": []
    },
    {
      "cell_type": "markdown",
      "metadata": {
        "id": "7O5ufEpivZpf",
        "colab_type": "text"
      },
      "source": [
        "## **CORRELATION BETWEEN NUMERICAL FEATURES**"
      ]
    },
    {
      "cell_type": "code",
      "metadata": {
        "id": "EUAh35mDvXeS",
        "colab_type": "code",
        "colab": {
          "base_uri": "https://localhost:8080/",
          "height": 269
        },
        "outputId": "35af9eb3-7a65-41c1-9abd-87109c926549"
      },
      "source": [
        "sns.heatmap(df.corr(),annot=True)\n",
        "plt.show()"
      ],
      "execution_count": 264,
      "outputs": [
        {
          "output_type": "display_data",
          "data": {
            "image/png": "[encoded data removed]",
            "text/plain": [
              "<Figure size 432x288 with 2 Axes>"
            ]
          },
          "metadata": {
            "tags": []
          }
        }
      ]
    },
    {
      "cell_type": "code",
      "metadata": {
        "id": "g5bjg8_Xyfou",
        "colab_type": "code",
        "colab": {
          "base_uri": "https://localhost:8080/",
          "height": 102
        },
        "outputId": "2420aa91-7d76-462d-af39-8daede9845c8"
      },
      "source": [
        "cat_df.columns"
      ],
      "execution_count": 265,
      "outputs": [
        {
          "output_type": "execute_result",
          "data": {
            "text/plain": [
              "Index(['gender', 'SeniorCitizen', 'Partner', 'Dependents', 'PhoneService',\n",
              "       'MultipleLines', 'InternetService', 'OnlineSecurity', 'OnlineBackup',\n",
              "       'DeviceProtection', 'TechSupport', 'StreamingTV', 'StreamingMovies',\n",
              "       'Contract', 'PaperlessBilling', 'PaymentMethod'],\n",
              "      dtype='object')"
            ]
          },
          "metadata": {
            "tags": []
          },
          "execution_count": 265
        }
      ]
    },
    {
      "cell_type": "markdown",
      "metadata": {
        "id": "USep_AIFx-Lr",
        "colab_type": "text"
      },
      "source": [
        "## **CHANGING CATEGORICAL FEATURES INTO DUMMY VARIABLES**"
      ]
    },
    {
      "cell_type": "code",
      "metadata": {
        "id": "anR5FykEzBE2",
        "colab_type": "code",
        "colab": {}
      },
      "source": [
        "X=df.drop('Churn',axis=1)\n",
        "df['Churn']=df['Churn'].replace({'No':0,'Yes':1})\n",
        "y=df['Churn']\n"
      ],
      "execution_count": 0,
      "outputs": []
    },
    {
      "cell_type": "code",
      "metadata": {
        "id": "rRPvuvW9vjVU",
        "colab_type": "code",
        "colab": {}
      },
      "source": [
        "new_X=pd.get_dummies(X,prefix=['SeniorCitizen','Partner','Dependents','MultipleLines','InternetService','OnlineSecurity','OnlineBackup','DeviceProtection'\n",
        "                      ,'TechSupport','StreamingTV','StreamingMovies','Contract','PaperlessBilling','PaymentMethod'])"
      ],
      "execution_count": 0,
      "outputs": []
    },
    {
      "cell_type": "code",
      "metadata": {
        "id": "FcaBUUY6y-ga",
        "colab_type": "code",
        "colab": {
          "base_uri": "https://localhost:8080/",
          "height": 258
        },
        "outputId": "21503d06-4239-4f98-ec53-9cffe16dce5c"
      },
      "source": [
        "new_X.head()"
      ],
      "execution_count": 268,
      "outputs": [
        {
          "output_type": "execute_result",
          "data": {
            "text/html": [
              "<div>\n",
              "<style scoped>\n",
              "    .dataframe tbody tr th:only-of-type {\n",
              "        vertical-align: middle;\n",
              "    }\n",
              "\n",
              "    .dataframe tbody tr th {\n",
              "        vertical-align: top;\n",
              "    }\n",
              "\n",
              "    .dataframe thead th {\n",
              "        text-align: right;\n",
              "    }\n",
              "</style>\n",
              "<table border=\"1\" class=\"dataframe\">\n",
              "  <thead>\n",
              "    <tr style=\"text-align: right;\">\n",
              "      <th></th>\n",
              "      <th>tenure</th>\n",
              "      <th>MonthlyCharges</th>\n",
              "      <th>TotalCharges</th>\n",
              "      <th>SeniorCitizen_No</th>\n",
              "      <th>SeniorCitizen_Yes</th>\n",
              "      <th>Partner_No</th>\n",
              "      <th>Partner_Yes</th>\n",
              "      <th>Dependents_No</th>\n",
              "      <th>Dependents_Yes</th>\n",
              "      <th>MultipleLines_No</th>\n",
              "      <th>MultipleLines_No phone service</th>\n",
              "      <th>MultipleLines_Yes</th>\n",
              "      <th>InternetService_DSL</th>\n",
              "      <th>InternetService_Fiber optic</th>\n",
              "      <th>InternetService_No</th>\n",
              "      <th>OnlineSecurity_No</th>\n",
              "      <th>OnlineSecurity_No internet service</th>\n",
              "      <th>OnlineSecurity_Yes</th>\n",
              "      <th>OnlineBackup_No</th>\n",
              "      <th>OnlineBackup_No internet service</th>\n",
              "      <th>OnlineBackup_Yes</th>\n",
              "      <th>DeviceProtection_No</th>\n",
              "      <th>DeviceProtection_No internet service</th>\n",
              "      <th>DeviceProtection_Yes</th>\n",
              "      <th>TechSupport_No</th>\n",
              "      <th>TechSupport_No internet service</th>\n",
              "      <th>TechSupport_Yes</th>\n",
              "      <th>StreamingTV_No</th>\n",
              "      <th>StreamingTV_No internet service</th>\n",
              "      <th>StreamingTV_Yes</th>\n",
              "      <th>StreamingMovies_No</th>\n",
              "      <th>StreamingMovies_No internet service</th>\n",
              "      <th>StreamingMovies_Yes</th>\n",
              "      <th>Contract_Month-to-month</th>\n",
              "      <th>Contract_One year</th>\n",
              "      <th>Contract_Two year</th>\n",
              "      <th>PaperlessBilling_No</th>\n",
              "      <th>PaperlessBilling_Yes</th>\n",
              "      <th>PaymentMethod_Bank transfer (automatic)</th>\n",
              "      <th>PaymentMethod_Credit card (automatic)</th>\n",
              "      <th>PaymentMethod_Electronic check</th>\n",
              "      <th>PaymentMethod_Mailed check</th>\n",
              "    </tr>\n",
              "  </thead>\n",
              "  <tbody>\n",
              "    <tr>\n",
              "      <th>0</th>\n",
              "      <td>1</td>\n",
              "      <td>29.85</td>\n",
              "      <td>29.85</td>\n",
              "      <td>1</td>\n",
              "      <td>0</td>\n",
              "      <td>0</td>\n",
              "      <td>1</td>\n",
              "      <td>1</td>\n",
              "      <td>0</td>\n",
              "      <td>0</td>\n",
              "      <td>1</td>\n",
              "      <td>0</td>\n",
              "      <td>1</td>\n",
              "      <td>0</td>\n",
              "      <td>0</td>\n",
              "      <td>1</td>\n",
              "      <td>0</td>\n",
              "      <td>0</td>\n",
              "      <td>0</td>\n",
              "      <td>0</td>\n",
              "      <td>1</td>\n",
              "      <td>1</td>\n",
              "      <td>0</td>\n",
              "      <td>0</td>\n",
              "      <td>1</td>\n",
              "      <td>0</td>\n",
              "      <td>0</td>\n",
              "      <td>1</td>\n",
              "      <td>0</td>\n",
              "      <td>0</td>\n",
              "      <td>1</td>\n",
              "      <td>0</td>\n",
              "      <td>0</td>\n",
              "      <td>1</td>\n",
              "      <td>0</td>\n",
              "      <td>0</td>\n",
              "      <td>0</td>\n",
              "      <td>1</td>\n",
              "      <td>0</td>\n",
              "      <td>0</td>\n",
              "      <td>1</td>\n",
              "      <td>0</td>\n",
              "    </tr>\n",
              "    <tr>\n",
              "      <th>1</th>\n",
              "      <td>34</td>\n",
              "      <td>56.95</td>\n",
              "      <td>1889.50</td>\n",
              "      <td>1</td>\n",
              "      <td>0</td>\n",
              "      <td>1</td>\n",
              "      <td>0</td>\n",
              "      <td>1</td>\n",
              "      <td>0</td>\n",
              "      <td>1</td>\n",
              "      <td>0</td>\n",
              "      <td>0</td>\n",
              "      <td>1</td>\n",
              "      <td>0</td>\n",
              "      <td>0</td>\n",
              "      <td>0</td>\n",
              "      <td>0</td>\n",
              "      <td>1</td>\n",
              "      <td>1</td>\n",
              "      <td>0</td>\n",
              "      <td>0</td>\n",
              "      <td>0</td>\n",
              "      <td>0</td>\n",
              "      <td>1</td>\n",
              "      <td>1</td>\n",
              "      <td>0</td>\n",
              "      <td>0</td>\n",
              "      <td>1</td>\n",
              "      <td>0</td>\n",
              "      <td>0</td>\n",
              "      <td>1</td>\n",
              "      <td>0</td>\n",
              "      <td>0</td>\n",
              "      <td>0</td>\n",
              "      <td>1</td>\n",
              "      <td>0</td>\n",
              "      <td>1</td>\n",
              "      <td>0</td>\n",
              "      <td>0</td>\n",
              "      <td>0</td>\n",
              "      <td>0</td>\n",
              "      <td>1</td>\n",
              "    </tr>\n",
              "    <tr>\n",
              "      <th>2</th>\n",
              "      <td>2</td>\n",
              "      <td>53.85</td>\n",
              "      <td>108.15</td>\n",
              "      <td>1</td>\n",
              "      <td>0</td>\n",
              "      <td>1</td>\n",
              "      <td>0</td>\n",
              "      <td>1</td>\n",
              "      <td>0</td>\n",
              "      <td>1</td>\n",
              "      <td>0</td>\n",
              "      <td>0</td>\n",
              "      <td>1</td>\n",
              "      <td>0</td>\n",
              "      <td>0</td>\n",
              "      <td>0</td>\n",
              "      <td>0</td>\n",
              "      <td>1</td>\n",
              "      <td>0</td>\n",
              "      <td>0</td>\n",
              "      <td>1</td>\n",
              "      <td>1</td>\n",
              "      <td>0</td>\n",
              "      <td>0</td>\n",
              "      <td>1</td>\n",
              "      <td>0</td>\n",
              "      <td>0</td>\n",
              "      <td>1</td>\n",
              "      <td>0</td>\n",
              "      <td>0</td>\n",
              "      <td>1</td>\n",
              "      <td>0</td>\n",
              "      <td>0</td>\n",
              "      <td>1</td>\n",
              "      <td>0</td>\n",
              "      <td>0</td>\n",
              "      <td>0</td>\n",
              "      <td>1</td>\n",
              "      <td>0</td>\n",
              "      <td>0</td>\n",
              "      <td>0</td>\n",
              "      <td>1</td>\n",
              "    </tr>\n",
              "    <tr>\n",
              "      <th>3</th>\n",
              "      <td>45</td>\n",
              "      <td>42.30</td>\n",
              "      <td>1840.75</td>\n",
              "      <td>1</td>\n",
              "      <td>0</td>\n",
              "      <td>1</td>\n",
              "      <td>0</td>\n",
              "      <td>1</td>\n",
              "      <td>0</td>\n",
              "      <td>0</td>\n",
              "      <td>1</td>\n",
              "      <td>0</td>\n",
              "      <td>1</td>\n",
              "      <td>0</td>\n",
              "      <td>0</td>\n",
              "      <td>0</td>\n",
              "      <td>0</td>\n",
              "      <td>1</td>\n",
              "      <td>1</td>\n",
              "      <td>0</td>\n",
              "      <td>0</td>\n",
              "      <td>0</td>\n",
              "      <td>0</td>\n",
              "      <td>1</td>\n",
              "      <td>0</td>\n",
              "      <td>0</td>\n",
              "      <td>1</td>\n",
              "      <td>1</td>\n",
              "      <td>0</td>\n",
              "      <td>0</td>\n",
              "      <td>1</td>\n",
              "      <td>0</td>\n",
              "      <td>0</td>\n",
              "      <td>0</td>\n",
              "      <td>1</td>\n",
              "      <td>0</td>\n",
              "      <td>1</td>\n",
              "      <td>0</td>\n",
              "      <td>1</td>\n",
              "      <td>0</td>\n",
              "      <td>0</td>\n",
              "      <td>0</td>\n",
              "    </tr>\n",
              "    <tr>\n",
              "      <th>4</th>\n",
              "      <td>2</td>\n",
              "      <td>70.70</td>\n",
              "      <td>151.65</td>\n",
              "      <td>1</td>\n",
              "      <td>0</td>\n",
              "      <td>1</td>\n",
              "      <td>0</td>\n",
              "      <td>1</td>\n",
              "      <td>0</td>\n",
              "      <td>1</td>\n",
              "      <td>0</td>\n",
              "      <td>0</td>\n",
              "      <td>0</td>\n",
              "      <td>1</td>\n",
              "      <td>0</td>\n",
              "      <td>1</td>\n",
              "      <td>0</td>\n",
              "      <td>0</td>\n",
              "      <td>1</td>\n",
              "      <td>0</td>\n",
              "      <td>0</td>\n",
              "      <td>1</td>\n",
              "      <td>0</td>\n",
              "      <td>0</td>\n",
              "      <td>1</td>\n",
              "      <td>0</td>\n",
              "      <td>0</td>\n",
              "      <td>1</td>\n",
              "      <td>0</td>\n",
              "      <td>0</td>\n",
              "      <td>1</td>\n",
              "      <td>0</td>\n",
              "      <td>0</td>\n",
              "      <td>1</td>\n",
              "      <td>0</td>\n",
              "      <td>0</td>\n",
              "      <td>0</td>\n",
              "      <td>1</td>\n",
              "      <td>0</td>\n",
              "      <td>0</td>\n",
              "      <td>1</td>\n",
              "      <td>0</td>\n",
              "    </tr>\n",
              "  </tbody>\n",
              "</table>\n",
              "</div>"
            ],
            "text/plain": [
              "   tenure  ...  PaymentMethod_Mailed check\n",
              "0       1  ...                           0\n",
              "1      34  ...                           1\n",
              "2       2  ...                           1\n",
              "3      45  ...                           0\n",
              "4       2  ...                           0\n",
              "\n",
              "[5 rows x 42 columns]"
            ]
          },
          "metadata": {
            "tags": []
          },
          "execution_count": 268
        }
      ]
    },
    {
      "cell_type": "code",
      "metadata": {
        "id": "HglNHCMozPf-",
        "colab_type": "code",
        "colab": {
          "base_uri": "https://localhost:8080/",
          "height": 34
        },
        "outputId": "9d143ca5-8eac-40c8-d6e7-735d446cb956"
      },
      "source": [
        "new_X.shape"
      ],
      "execution_count": 269,
      "outputs": [
        {
          "output_type": "execute_result",
          "data": {
            "text/plain": [
              "(7032, 42)"
            ]
          },
          "metadata": {
            "tags": []
          },
          "execution_count": 269
        }
      ]
    },
    {
      "cell_type": "markdown",
      "metadata": {
        "id": "pINQ0O8W-VlI",
        "colab_type": "text"
      },
      "source": [
        "# **MODEL BUILDING**"
      ]
    },
    {
      "cell_type": "markdown",
      "metadata": {
        "id": "io6U0MTVzk9E",
        "colab_type": "text"
      },
      "source": [
        "## **SPLITTING DATA INTO TRAIN AND TEST**\n"
      ]
    },
    {
      "cell_type": "code",
      "metadata": {
        "id": "DV1xSupkzgJd",
        "colab_type": "code",
        "colab": {}
      },
      "source": [
        "X_train,X_test,y_train,y_test=train_test_split(new_X, y, test_size=0.2, random_state=0)\n"
      ],
      "execution_count": 0,
      "outputs": []
    },
    {
      "cell_type": "markdown",
      "metadata": {
        "id": "6NUDM6QE0piL",
        "colab_type": "text"
      },
      "source": [
        "## **BASELINE DECISION TREE**"
      ]
    },
    {
      "cell_type": "code",
      "metadata": {
        "id": "hwMc9ye40mg9",
        "colab_type": "code",
        "colab": {
          "base_uri": "https://localhost:8080/",
          "height": 119
        },
        "outputId": "cbae1020-60d7-4305-e481-0d7e934eadd5"
      },
      "source": [
        "dt=DecisionTreeClassifier()\n",
        "dt.fit(X_train,y_train)\n"
      ],
      "execution_count": 271,
      "outputs": [
        {
          "output_type": "execute_result",
          "data": {
            "text/plain": [
              "DecisionTreeClassifier(ccp_alpha=0.0, class_weight=None, criterion='gini',\n",
              "                       max_depth=None, max_features=None, max_leaf_nodes=None,\n",
              "                       min_impurity_decrease=0.0, min_impurity_split=None,\n",
              "                       min_samples_leaf=1, min_samples_split=2,\n",
              "                       min_weight_fraction_leaf=0.0, presort='deprecated',\n",
              "                       random_state=None, splitter='best')"
            ]
          },
          "metadata": {
            "tags": []
          },
          "execution_count": 271
        }
      ]
    },
    {
      "cell_type": "code",
      "metadata": {
        "id": "1Pd6wTKT1BVu",
        "colab_type": "code",
        "colab": {
          "base_uri": "https://localhost:8080/",
          "height": 170
        },
        "outputId": "9f602d27-41a6-423d-d90f-f58551d3464f"
      },
      "source": [
        "y_train_pred=dt.predict(X_train)\n",
        "y_test_pred=dt.predict(X_test)\n",
        "\n",
        "print(classification_report(y_train,y_train_pred))"
      ],
      "execution_count": 272,
      "outputs": [
        {
          "output_type": "stream",
          "text": [
            "              precision    recall  f1-score   support\n",
            "\n",
            "           0       1.00      1.00      1.00      4125\n",
            "           1       1.00      0.99      0.99      1500\n",
            "\n",
            "    accuracy                           1.00      5625\n",
            "   macro avg       1.00      1.00      1.00      5625\n",
            "weighted avg       1.00      1.00      1.00      5625\n",
            "\n"
          ],
          "name": "stdout"
        }
      ]
    },
    {
      "cell_type": "code",
      "metadata": {
        "id": "DUriBQ_Z1rfK",
        "colab_type": "code",
        "colab": {
          "base_uri": "https://localhost:8080/",
          "height": 170
        },
        "outputId": "b7e786db-0150-4ed6-b8bd-e36051a99d27"
      },
      "source": [
        "print(classification_report(y_test,y_test_pred))"
      ],
      "execution_count": 273,
      "outputs": [
        {
          "output_type": "stream",
          "text": [
            "              precision    recall  f1-score   support\n",
            "\n",
            "           0       0.82      0.81      0.81      1038\n",
            "           1       0.48      0.50      0.49       369\n",
            "\n",
            "    accuracy                           0.73      1407\n",
            "   macro avg       0.65      0.66      0.65      1407\n",
            "weighted avg       0.73      0.73      0.73      1407\n",
            "\n"
          ],
          "name": "stdout"
        }
      ]
    },
    {
      "cell_type": "markdown",
      "metadata": {
        "id": "CUE81QMO28DD",
        "colab_type": "text"
      },
      "source": [
        "## **BALANCING DATA WITH SMOTE**"
      ]
    },
    {
      "cell_type": "code",
      "metadata": {
        "id": "8Rx2YWOP1xky",
        "colab_type": "code",
        "colab": {
          "base_uri": "https://localhost:8080/",
          "height": 71
        },
        "outputId": "93dbdc41-f378-4b23-8b30-1f0a759412ff"
      },
      "source": [
        "smote=SMOTE(ratio='minority')\n",
        "X_sm,y_sm=smote.fit_sample(new_X,y)"
      ],
      "execution_count": 274,
      "outputs": [
        {
          "output_type": "stream",
          "text": [
            "/usr/local/lib/python3.6/dist-packages/sklearn/utils/deprecation.py:87: FutureWarning: Function safe_indexing is deprecated; safe_indexing is deprecated in version 0.22 and will be removed in version 0.24.\n",
            "  warnings.warn(msg, category=FutureWarning)\n"
          ],
          "name": "stderr"
        }
      ]
    },
    {
      "cell_type": "markdown",
      "metadata": {
        "colab_type": "text",
        "id": "FMr5a2FE4OB5"
      },
      "source": [
        "## **BASELINE DECISION TREE WITH SMOTE DATA**"
      ]
    },
    {
      "cell_type": "code",
      "metadata": {
        "colab_type": "code",
        "id": "FJZkHxwx4OBm",
        "colab": {}
      },
      "source": [
        "X_train,X_test,y_train,y_test=train_test_split(X_sm, y_sm, test_size=0.2, random_state=0)\n"
      ],
      "execution_count": 0,
      "outputs": []
    },
    {
      "cell_type": "code",
      "metadata": {
        "colab_type": "code",
        "outputId": "17566730-7536-4c11-f6da-f48ce3d0fe79",
        "id": "tFIi5nbD4OB7",
        "colab": {
          "base_uri": "https://localhost:8080/",
          "height": 119
        }
      },
      "source": [
        "dt=DecisionTreeClassifier(random_state=0)\n",
        "dt.fit(X_train,y_train)\n"
      ],
      "execution_count": 276,
      "outputs": [
        {
          "output_type": "execute_result",
          "data": {
            "text/plain": [
              "DecisionTreeClassifier(ccp_alpha=0.0, class_weight=None, criterion='gini',\n",
              "                       max_depth=None, max_features=None, max_leaf_nodes=None,\n",
              "                       min_impurity_decrease=0.0, min_impurity_split=None,\n",
              "                       min_samples_leaf=1, min_samples_split=2,\n",
              "                       min_weight_fraction_leaf=0.0, presort='deprecated',\n",
              "                       random_state=None, splitter='best')"
            ]
          },
          "metadata": {
            "tags": []
          },
          "execution_count": 276
        }
      ]
    },
    {
      "cell_type": "code",
      "metadata": {
        "colab_type": "code",
        "outputId": "873a917b-4cc9-4eb4-e398-19d5938deb8d",
        "id": "sHVnTgeh4OCD",
        "colab": {
          "base_uri": "https://localhost:8080/",
          "height": 170
        }
      },
      "source": [
        "y_train_pred=dt.predict(X_train)\n",
        "y_test_pred=dt.predict(X_test)\n",
        "\n",
        "print(classification_report(y_train,y_train_pred))"
      ],
      "execution_count": 277,
      "outputs": [
        {
          "output_type": "stream",
          "text": [
            "              precision    recall  f1-score   support\n",
            "\n",
            "           0       1.00      1.00      1.00      4157\n",
            "           1       1.00      1.00      1.00      4103\n",
            "\n",
            "    accuracy                           1.00      8260\n",
            "   macro avg       1.00      1.00      1.00      8260\n",
            "weighted avg       1.00      1.00      1.00      8260\n",
            "\n"
          ],
          "name": "stdout"
        }
      ]
    },
    {
      "cell_type": "code",
      "metadata": {
        "colab_type": "code",
        "outputId": "1671176e-f8ee-4b1d-a878-3d1bee7ad455",
        "id": "cTtVPXJU4OCI",
        "colab": {
          "base_uri": "https://localhost:8080/",
          "height": 170
        }
      },
      "source": [
        "print(classification_report(y_test,y_test_pred))"
      ],
      "execution_count": 278,
      "outputs": [
        {
          "output_type": "stream",
          "text": [
            "              precision    recall  f1-score   support\n",
            "\n",
            "           0       0.81      0.82      0.81      1006\n",
            "           1       0.82      0.82      0.82      1060\n",
            "\n",
            "    accuracy                           0.82      2066\n",
            "   macro avg       0.82      0.82      0.82      2066\n",
            "weighted avg       0.82      0.82      0.82      2066\n",
            "\n"
          ],
          "name": "stdout"
        }
      ]
    },
    {
      "cell_type": "markdown",
      "metadata": {
        "id": "j1CrPok74kki",
        "colab_type": "text"
      },
      "source": [
        "*We can observe that after the balancing of data the precision,recall, f1-score for 'Yes' target category also increased significantly.*"
      ]
    },
    {
      "cell_type": "markdown",
      "metadata": {
        "id": "lCL-Tlmw6HG3",
        "colab_type": "text"
      },
      "source": [
        "## **EVALUATION AND VISUALIZATION OF AUC IN ROC CURVE**"
      ]
    },
    {
      "cell_type": "code",
      "metadata": {
        "id": "bv5Q_pHL3qWA",
        "colab_type": "code",
        "colab": {}
      },
      "source": [
        "prob=dt.predict_proba(X_test)"
      ],
      "execution_count": 0,
      "outputs": []
    },
    {
      "cell_type": "code",
      "metadata": {
        "id": "dGUX7HJY6hIO",
        "colab_type": "code",
        "colab": {
          "base_uri": "https://localhost:8080/",
          "height": 34
        },
        "outputId": "7fdde5c0-ff39-4c23-f917-3bd74d654675"
      },
      "source": [
        "print('roc = ',roc_auc_score(y_test,prob[:,1]))"
      ],
      "execution_count": 280,
      "outputs": [
        {
          "output_type": "stream",
          "text": [
            "roc =  0.8170172362054091\n"
          ],
          "name": "stdout"
        }
      ]
    },
    {
      "cell_type": "code",
      "metadata": {
        "id": "TBkU57x26iBG",
        "colab_type": "code",
        "colab": {
          "base_uri": "https://localhost:8080/",
          "height": 51
        },
        "outputId": "77c9a010-09ca-47ac-a7c1-11b16bf8a999"
      },
      "source": [
        "fpr, tpr, thresholds = roc_curve(y_test, prob[:,1])\n",
        "print(fpr)\n",
        "print(tpr)"
      ],
      "execution_count": 281,
      "outputs": [
        {
          "output_type": "stream",
          "text": [
            "[0.         0.18489066 0.18489066 0.18588469 0.18787276 1.        ]\n",
            "[0.         0.81792453 0.81981132 0.81981132 0.81981132 1.        ]\n"
          ],
          "name": "stdout"
        }
      ]
    },
    {
      "cell_type": "code",
      "metadata": {
        "id": "04XAs_M47EtI",
        "colab_type": "code",
        "colab": {}
      },
      "source": [
        "def plot_roc_curve(fpr, tpr):\n",
        "    plt.figure(figsize=(8,5))\n",
        "    plt.plot(fpr, tpr, color='red', label='ROC')\n",
        "    plt.plot([0, 1], [0, 1], color='darkblue', linestyle='--',label='0.5 roc line')\n",
        "    plt.xlabel('False Positive Rate')\n",
        "    plt.ylabel('True Positive Rate')## **EVALUATION AND VISUALIZATION OF AUC IN ROC CURVE**\n",
        "    plt.title('Receiver Operating Characteristic (ROC) Curve')\n",
        "    plt.legend()\n",
        "    plt.show()"
      ],
      "execution_count": 0,
      "outputs": []
    },
    {
      "cell_type": "code",
      "metadata": {
        "id": "l8Qv8BkZ7wv0",
        "colab_type": "code",
        "colab": {
          "base_uri": "https://localhost:8080/",
          "height": 350
        },
        "outputId": "b0761b6a-bdda-4e91-8c08-ef98c927cbaf"
      },
      "source": [
        "plot_roc_curve(fpr,tpr)"
      ],
      "execution_count": 283,
      "outputs": [
        {
          "output_type": "display_data",
          "data": {
            "image/png": "[encoded data removed]",
            "text/plain": [
              "<Figure size 576x360 with 1 Axes>"
            ]
          },
          "metadata": {
            "tags": []
          }
        }
      ]
    },
    {
      "cell_type": "markdown",
      "metadata": {
        "id": "CkX8RqXn8rB2",
        "colab_type": "text"
      },
      "source": [
        "## **INFERENCES**\n",
        "\n",
        "*The baseline decision tree model performed decent after smote implication on the dataset with auc score of 82.9%.<br>\n",
        "With the hyper-parameter tuning of the decision tree the performance is supposed to increase.*"
      ]
    },
    {
      "cell_type": "markdown",
      "metadata": {
        "id": "dal7QVVK9UFE",
        "colab_type": "text"
      },
      "source": [
        "## **HYPERPARAMTER TUNING OF DECISION TREE**"
      ]
    },
    {
      "cell_type": "code",
      "metadata": {
        "id": "QnKROtsK7zVQ",
        "colab_type": "code",
        "colab": {
          "base_uri": "https://localhost:8080/",
          "height": 323
        },
        "outputId": "6855f598-34e3-4f78-f6dd-e1a00687ae08"
      },
      "source": [
        "dt_params={'max_depth':np.arange(1,18),'min_samples_leaf':np.arange(2,15)}\n",
        "GS_dt=GridSearchCV(dt,dt_params,cv=3,scoring='neg_mean_squared_error')\n",
        "GS_dt.fit(X_train,y_train)"
      ],
      "execution_count": 284,
      "outputs": [
        {
          "output_type": "execute_result",
          "data": {
            "text/plain": [
              "GridSearchCV(cv=3, error_score=nan,\n",
              "             estimator=DecisionTreeClassifier(ccp_alpha=0.0, class_weight=None,\n",
              "                                              criterion='gini', max_depth=None,\n",
              "                                              max_features=None,\n",
              "                                              max_leaf_nodes=None,\n",
              "                                              min_impurity_decrease=0.0,\n",
              "                                              min_impurity_split=None,\n",
              "                                              min_samples_leaf=1,\n",
              "                                              min_samples_split=2,\n",
              "                                              min_weight_fraction_leaf=0.0,\n",
              "                                              presort='deprecated',\n",
              "                                              random_state=None,\n",
              "                                              splitter='best'),\n",
              "             iid='deprecated', n_jobs=None,\n",
              "             param_grid={'max_depth': array([ 1,  2,  3,  4,  5,  6,  7,  8,  9, 10, 11, 12, 13, 14, 15, 16, 17]),\n",
              "                         'min_samples_leaf': array([ 2,  3,  4,  5,  6,  7,  8,  9, 10, 11, 12, 13, 14])},\n",
              "             pre_dispatch='2*n_jobs', refit=True, return_train_score=False,\n",
              "             scoring='neg_mean_squared_error', verbose=0)"
            ]
          },
          "metadata": {
            "tags": []
          },
          "execution_count": 284
        }
      ]
    },
    {
      "cell_type": "code",
      "metadata": {
        "id": "3bW5UwA-IFjD",
        "colab_type": "code",
        "colab": {
          "base_uri": "https://localhost:8080/",
          "height": 34
        },
        "outputId": "0d4c8074-0094-460e-c533-e5ba8f73ba63"
      },
      "source": [
        "GS_dt.best_params_"
      ],
      "execution_count": 285,
      "outputs": [
        {
          "output_type": "execute_result",
          "data": {
            "text/plain": [
              "{'max_depth': 9, 'min_samples_leaf': 4}"
            ]
          },
          "metadata": {
            "tags": []
          },
          "execution_count": 285
        }
      ]
    },
    {
      "cell_type": "code",
      "metadata": {
        "id": "xEu9GOfcIOeE",
        "colab_type": "code",
        "colab": {
          "base_uri": "https://localhost:8080/",
          "height": 170
        },
        "outputId": "93b0ad35-29ca-4d1b-d85c-da73b3dd2a6a"
      },
      "source": [
        "hyper_dt=DecisionTreeClassifier(max_depth=8,min_samples_leaf=3,random_state=0)\n",
        "hyper_dt.fit(X_train,y_train)\n",
        "y_pred=hyper_dt.predict(X_test)\n",
        "print(classification_report(y_test,y_pred))"
      ],
      "execution_count": 286,
      "outputs": [
        {
          "output_type": "stream",
          "text": [
            "              precision    recall  f1-score   support\n",
            "\n",
            "           0       0.82      0.84      0.83      1006\n",
            "           1       0.84      0.82      0.83      1060\n",
            "\n",
            "    accuracy                           0.83      2066\n",
            "   macro avg       0.83      0.83      0.83      2066\n",
            "weighted avg       0.83      0.83      0.83      2066\n",
            "\n"
          ],
          "name": "stdout"
        }
      ]
    },
    {
      "cell_type": "code",
      "metadata": {
        "id": "lNY6B4KmJDO-",
        "colab_type": "code",
        "colab": {
          "base_uri": "https://localhost:8080/",
          "height": 34
        },
        "outputId": "511bcc4a-db2c-4232-a628-02bd08d46b84"
      },
      "source": [
        "prob=hyper_dt.predict_proba(X_test)\n",
        "print('AUC score = ',roc_auc_score(y_test,prob[:,1]))"
      ],
      "execution_count": 287,
      "outputs": [
        {
          "output_type": "stream",
          "text": [
            "AUC score =  0.9118079260287331\n"
          ],
          "name": "stdout"
        }
      ]
    },
    {
      "cell_type": "code",
      "metadata": {
        "id": "-kI9IVJ6KUmn",
        "colab_type": "code",
        "colab": {
          "base_uri": "https://localhost:8080/",
          "height": 51
        },
        "outputId": "56d22776-fcef-47ea-8c1e-8656399622f5"
      },
      "source": [
        "confusion_matrix(y_test,y_pred)"
      ],
      "execution_count": 288,
      "outputs": [
        {
          "output_type": "execute_result",
          "data": {
            "text/plain": [
              "array([[844, 162],\n",
              "       [186, 874]])"
            ]
          },
          "metadata": {
            "tags": []
          },
          "execution_count": 288
        }
      ]
    },
    {
      "cell_type": "markdown",
      "metadata": {
        "id": "l7p0SngaL2K1",
        "colab_type": "text"
      },
      "source": [
        "## **EVALUATION AND VISUALIZATION OF AUC IN ROC CURVE**"
      ]
    },
    {
      "cell_type": "code",
      "metadata": {
        "id": "qORYenhLImP0",
        "colab_type": "code",
        "colab": {
          "base_uri": "https://localhost:8080/",
          "height": 350
        },
        "outputId": "cf7dca60-e9f9-490e-acaf-82b1542b0f92"
      },
      "source": [
        "fpr, tpr, thresholds = roc_curve(y_test, prob[:,1])\n",
        "plot_roc_curve(fpr,tpr)"
      ],
      "execution_count": 289,
      "outputs": [
        {
          "output_type": "display_data",
          "data": {
            "image/png": "[encoded data removed]",
            "text/plain": [
              "<Figure size 576x360 with 1 Axes>"
            ]
          },
          "metadata": {
            "tags": []
          }
        }
      ]
    },
    {
      "cell_type": "markdown",
      "metadata": {
        "id": "yDFV08PyI--r",
        "colab_type": "text"
      },
      "source": [
        "## **INFERENCES**\n",
        "*With hypertuned decision tree the auc score of the model has increased significantly to 91.18%*"
      ]
    },
    {
      "cell_type": "markdown",
      "metadata": {
        "id": "HFg5Er5YMZd9",
        "colab_type": "text"
      },
      "source": [
        "# **MODELLING WITH RANDOM FOREST**"
      ]
    },
    {
      "cell_type": "code",
      "metadata": {
        "id": "OI14vsK1MCK9",
        "colab_type": "code",
        "colab": {
          "base_uri": "https://localhost:8080/",
          "height": 374
        },
        "outputId": "ba59baa8-89d4-4628-8a66-019fd5d94b3b"
      },
      "source": [
        "rf=RandomForestClassifier(random_state=0)\n",
        "param_grid={'n_estimators':np.arange(1,40)}\n",
        "\n",
        "GS_rf=GridSearchCV(rf,param_grid)\n",
        "GS_rf.fit(X_train,y_train)\n"
      ],
      "execution_count": 302,
      "outputs": [
        {
          "output_type": "execute_result",
          "data": {
            "text/plain": [
              "GridSearchCV(cv=None, error_score=nan,\n",
              "             estimator=RandomForestClassifier(bootstrap=True, ccp_alpha=0.0,\n",
              "                                              class_weight=None,\n",
              "                                              criterion='gini', max_depth=None,\n",
              "                                              max_features='auto',\n",
              "                                              max_leaf_nodes=None,\n",
              "                                              max_samples=None,\n",
              "                                              min_impurity_decrease=0.0,\n",
              "                                              min_impurity_split=None,\n",
              "                                              min_samples_leaf=1,\n",
              "                                              min_samples_split=2,\n",
              "                                              min_weight_fraction_leaf=0.0,\n",
              "                                              n_estimators=100, n_jobs=None,\n",
              "                                              oob_score=False, random_state=0,\n",
              "                                              verbose=0, warm_start=False),\n",
              "             iid='deprecated', n_jobs=None,\n",
              "             param_grid={'n_estimators': array([ 1,  2,  3,  4,  5,  6,  7,  8,  9, 10, 11, 12, 13, 14, 15, 16, 17,\n",
              "       18, 19, 20, 21, 22, 23, 24, 25, 26, 27, 28, 29, 30, 31, 32, 33, 34,\n",
              "       35, 36, 37, 38, 39])},\n",
              "             pre_dispatch='2*n_jobs', refit=True, return_train_score=False,\n",
              "             scoring=None, verbose=0)"
            ]
          },
          "metadata": {
            "tags": []
          },
          "execution_count": 302
        }
      ]
    },
    {
      "cell_type": "code",
      "metadata": {
        "id": "DbHAX7ITNg-9",
        "colab_type": "code",
        "colab": {
          "base_uri": "https://localhost:8080/",
          "height": 34
        },
        "outputId": "cf913cac-5816-4afb-ffaf-aaddb9f18ab2"
      },
      "source": [
        "GS_rf.best_params_"
      ],
      "execution_count": 303,
      "outputs": [
        {
          "output_type": "execute_result",
          "data": {
            "text/plain": [
              "{'n_estimators': 28}"
            ]
          },
          "metadata": {
            "tags": []
          },
          "execution_count": 303
        }
      ]
    },
    {
      "cell_type": "code",
      "metadata": {
        "id": "T4a-sZJ3N5zX",
        "colab_type": "code",
        "colab": {
          "base_uri": "https://localhost:8080/",
          "height": 170
        },
        "outputId": "faeb8e9d-97d0-43ee-d8d1-8311271a814b"
      },
      "source": [
        "hyper_rf=RandomForestClassifier(n_estimators=28,random_state=0)\n",
        "hyper_rf.fit(X_train,y_train)\n",
        "y_pred=hyper_rf.predict(X_test)\n",
        "print(classification_report(y_test,y_pred))\n"
      ],
      "execution_count": 304,
      "outputs": [
        {
          "output_type": "stream",
          "text": [
            "              precision    recall  f1-score   support\n",
            "\n",
            "           0       0.83      0.90      0.87      1006\n",
            "           1       0.90      0.83      0.86      1060\n",
            "\n",
            "    accuracy                           0.86      2066\n",
            "   macro avg       0.87      0.86      0.86      2066\n",
            "weighted avg       0.87      0.86      0.86      2066\n",
            "\n"
          ],
          "name": "stdout"
        }
      ]
    },
    {
      "cell_type": "code",
      "metadata": {
        "colab_type": "code",
        "outputId": "f2cde707-bc81-41d4-9c7a-779717308e6e",
        "id": "1PGW5GLaOz3B",
        "colab": {
          "base_uri": "https://localhost:8080/",
          "height": 34
        }
      },
      "source": [
        "prob=hyper_rf.predict_proba(X_test)\n",
        "print('AUC score = ',roc_auc_score(y_test,prob[:,1]))"
      ],
      "execution_count": 306,
      "outputs": [
        {
          "output_type": "stream",
          "text": [
            "AUC score =  0.9299565812671144\n"
          ],
          "name": "stdout"
        }
      ]
    },
    {
      "cell_type": "code",
      "metadata": {
        "colab_type": "code",
        "outputId": "a20edc96-fbf4-4e9d-9134-4834cbc7b934",
        "id": "WkO3pFIpOz3S",
        "colab": {
          "base_uri": "https://localhost:8080/",
          "height": 51
        }
      },
      "source": [
        "confusion_matrix(y_test,y_pred)"
      ],
      "execution_count": 307,
      "outputs": [
        {
          "output_type": "execute_result",
          "data": {
            "text/plain": [
              "array([[908,  98],\n",
              "       [185, 875]])"
            ]
          },
          "metadata": {
            "tags": []
          },
          "execution_count": 307
        }
      ]
    },
    {
      "cell_type": "markdown",
      "metadata": {
        "colab_type": "text",
        "id": "WA6gz3SOOz3a"
      },
      "source": [
        "## **EVALUATION AND VISUALIZATION OF AUC IN ROC CURVE**"
      ]
    },
    {
      "cell_type": "code",
      "metadata": {
        "colab_type": "code",
        "outputId": "d4b7354d-204d-4ad6-ee6b-8901dddffd97",
        "id": "EnnUZvu2Oz3c",
        "colab": {
          "base_uri": "https://localhost:8080/",
          "height": 350
        }
      },
      "source": [
        "fpr, tpr, thresholds = roc_curve(y_test, prob[:,1])\n",
        "plot_roc_curve(fpr,tpr)"
      ],
      "execution_count": 308,
      "outputs": [
        {
          "output_type": "display_data",
          "data": {
            "image/png": "[encoded data removed]",
            "text/plain": [
              "<Figure size 576x360 with 1 Axes>"
            ]
          },
          "metadata": {
            "tags": []
          }
        }
      ]
    },
    {
      "cell_type": "markdown",
      "metadata": {
        "id": "fZVU80QOO_9E",
        "colab_type": "text"
      },
      "source": [
        "## **INFERENCES**\n",
        "With hypertuned randomforest classifier model the auc score has increased to 92.99%."
      ]
    }
  ]
}